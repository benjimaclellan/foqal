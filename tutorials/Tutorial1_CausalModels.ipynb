{
 "cells": [
  {
   "cell_type": "code",
   "execution_count": 24,
   "metadata": {
    "collapsed": true
   },
   "outputs": [],
   "source": [
    "import time\n",
    "import pandas as pd\n",
    "import torch\n",
    "import matplotlib.pyplot as plt\n",
    "\n",
    "from foqal.utils.io import IO\n",
    "from foqal.causal.classical import ClassicalCommonCause, Superdeterminism, Superluminal\n",
    "from foqal.causal.quantum import QuantumCommonCause\n",
    "from foqal.fit import fit"
   ]
  },
  {
   "cell_type": "code",
   "execution_count": 36,
   "outputs": [
    {
     "name": "stdout",
     "output_type": "stream",
     "text": [
      "CUDA is available: True\n"
     ]
    }
   ],
   "source": [
    "print(f\"CUDA is available: {torch.cuda.is_available()}\")\n",
    "device = \"cpu\"\n",
    "verbose = True\n",
    "\n",
    "io = IO.directory(\n",
    "    folder=\"simulated-data-causal-two-qubit-depolarizing\", include_date=False, include_id=False, verbose=False,\n",
    ")\n",
    "m = 20\n",
    "p = 0.0\n",
    "latent_dim = 100\n",
    "lr = 0.10\n",
    "n_steps = 2000"
   ],
   "metadata": {
    "collapsed": false,
    "pycharm": {
     "name": "#%%\n"
    }
   }
  },
  {
   "cell_type": "code",
   "execution_count": 37,
   "outputs": [],
   "source": [
    "train_data = torch.Tensor(io.load_np_array(filename=f\"m={m}_p={int(100 * p)}_{0}.npy\")).to(device)\n",
    "test_data = torch.Tensor(io.load_np_array(filename=f\"m={m}_p={int(100 * p)}_{1}.npy\")).to(device)"
   ],
   "metadata": {
    "collapsed": false,
    "pycharm": {
     "name": "#%%\n"
    }
   }
  },
  {
   "cell_type": "code",
   "execution_count": 38,
   "outputs": [],
   "source": [
    "model = ClassicalCommonCause(n_settings=m, latent_dim=latent_dim)"
   ],
   "metadata": {
    "collapsed": false,
    "pycharm": {
     "name": "#%%\n"
    }
   }
  },
  {
   "cell_type": "code",
   "execution_count": 39,
   "outputs": [
    {
     "name": "stderr",
     "output_type": "stream",
     "text": [
      "Cost: 0.0047518997: 100%|██████████| 2000/2000 [00:08<00:00, 228.36it/s]\n"
     ]
    },
    {
     "name": "stdout",
     "output_type": "stream",
     "text": [
      "\n",
      "ClassicalCommonCause | \n",
      "\tTotal time: 8.759877920150757| \n",
      "\tTotal parameters: 4100\n",
      "\tFinal loss: 0.004751899745315313\n"
     ]
    },
    {
     "name": "stderr",
     "output_type": "stream",
     "text": [
      "Cost: 0.0000691153: 100%|██████████| 2000/2000 [00:11<00:00, 170.35it/s]\n"
     ]
    },
    {
     "name": "stdout",
     "output_type": "stream",
     "text": [
      "\n",
      "Superdeterminism | \n",
      "\tTotal time: 11.74229884147644| \n",
      "\tTotal parameters: 6100\n",
      "\tFinal loss: 6.911525269970298e-05\n"
     ]
    },
    {
     "name": "stderr",
     "output_type": "stream",
     "text": [
      "Cost: 0.0000623052: 100%|██████████| 2000/2000 [00:10<00:00, 198.11it/s]\n"
     ]
    },
    {
     "name": "stdout",
     "output_type": "stream",
     "text": [
      "\n",
      "Superluminal | \n",
      "\tTotal time: 10.097547769546509| \n",
      "\tTotal parameters: 42100\n",
      "\tFinal loss: 6.230515282368287e-05\n"
     ]
    },
    {
     "name": "stderr",
     "output_type": "stream",
     "text": [
      "Cost: 0.0001746908: 100%|██████████| 2000/2000 [00:22<00:00, 87.29it/s] "
     ]
    },
    {
     "name": "stdout",
     "output_type": "stream",
     "text": [
      "\n",
      "QuantumCommonCause | \n",
      "\tTotal time: 22.91480278968811| \n",
      "\tTotal parameters: 180\n",
      "\tFinal loss: 0.00017469078011345118\n"
     ]
    },
    {
     "name": "stderr",
     "output_type": "stream",
     "text": [
      "\n"
     ]
    }
   ],
   "source": [
    "df = []\n",
    "curves = {}\n",
    "for Model in [\n",
    "    ClassicalCommonCause,\n",
    "    Superdeterminism,\n",
    "    Superluminal,\n",
    "    QuantumCommonCause,\n",
    "]:\n",
    "    if Model is QuantumCommonCause:\n",
    "        _latent_dim = 2\n",
    "    else:\n",
    "        _latent_dim = latent_dim\n",
    "\n",
    "    model = Model(n_settings=m, latent_dim=_latent_dim)\n",
    "    model = model.to(device)\n",
    "\n",
    "    optimizer = torch.optim.Adagrad(model.parameters(), lr=lr)\n",
    "    loss = torch.nn.KLDivLoss()\n",
    "\n",
    "    t0 = time.time()\n",
    "    losses = fit(model, train_data, optimizer, loss, n_steps=n_steps, progress=True)\n",
    "    t1 = time.time()\n",
    "\n",
    "    if verbose:\n",
    "        print(\n",
    "            f\"\\n{model.__class__.__name__} | \"\n",
    "            f\"\\n\\tTotal time: {t1 - t0}| \"\n",
    "            f\"\\n\\tTotal parameters: {sum(p.numel() for p in model.parameters())}\"\n",
    "            f\"\\n\\tFinal loss: {losses[-1]}\"\n",
    "        )\n",
    "\n",
    "    torch.cuda.empty_cache()\n",
    "\n",
    "    loss_test = loss(model.forward(), test_data)\n",
    "    if loss_test.is_cuda:\n",
    "        loss_test = loss_test.cpu().detach().numpy().item()\n",
    "    else:\n",
    "        loss_test = loss_test.detach().numpy().item()\n",
    "\n",
    "    df.append(dict(\n",
    "        model=model.__class__.__name__,\n",
    "        m=m,\n",
    "        p=p,\n",
    "        latent_dim=_latent_dim,\n",
    "        train_loss=losses[-1].item(),\n",
    "        test_loss=loss_test,\n",
    "        t=(t1 - t0),\n",
    "        lr=lr,\n",
    "        n_steps=n_steps,\n",
    "    ))\n",
    "    curves[model.__class__.__name__] = losses\n",
    "\n",
    "io.verbose = True"
   ],
   "metadata": {
    "collapsed": false,
    "pycharm": {
     "name": "#%%\n"
    }
   }
  },
  {
   "cell_type": "code",
   "execution_count": 40,
   "outputs": [
    {
     "name": "stdout",
     "output_type": "stream",
     "text": [
      "tensor([[4.9801e-01, 4.9652e-04],\n",
      "        [4.9652e-04, 5.0099e-01]])\n"
     ]
    }
   ],
   "source": [
    "print(train_data[:, :, 0, 0])"
   ],
   "metadata": {
    "collapsed": false,
    "pycharm": {
     "name": "#%%\n"
    }
   }
  },
  {
   "cell_type": "code",
   "execution_count": 12,
   "outputs": [
    {
     "data": {
      "text/plain": "<Figure size 432x288 with 1 Axes>",
      "image/png": "[encoded data removed]"
     },
     "metadata": {
      "needs_background": "light"
     },
     "output_type": "display_data"
    }
   ],
   "source": [
    "for label, curve in curves.items():\n",
    "    plt.plot(curve, label=label)\n",
    "plt.xlabel('Optimization Step')\n",
    "plt.ylabel('KL Divergence')\n",
    "plt.legend()\n",
    "plt.show()"
   ],
   "metadata": {
    "collapsed": false,
    "pycharm": {
     "name": "#%%\n"
    }
   }
  },
  {
   "cell_type": "code",
   "execution_count": 13,
   "outputs": [
    {
     "name": "stdout",
     "output_type": "stream",
     "text": [
      "                  model   m    p  latent_dim  train_loss  test_loss  \\\n",
      "0  ClassicalCommonCause  40  0.0         100    0.001467   0.001484   \n",
      "1      Superdeterminism  40  0.0         100    0.000112   0.000232   \n",
      "2          Superluminal  40  0.0         100    0.000062   0.000280   \n",
      "3    QuantumCommonCause  40  0.0           2    0.000172   0.000178   \n",
      "\n",
      "           t    lr  n_steps  \n",
      "0   6.823362  0.25      300  \n",
      "1  10.501652  0.25      300  \n",
      "2   9.677078  0.25      300  \n",
      "3   7.595635  0.25      300  \n"
     ]
    }
   ],
   "source": [
    "df = pd.DataFrame(df)\n",
    "print(df)"
   ],
   "metadata": {
    "collapsed": false,
    "pycharm": {
     "name": "#%%\n"
    }
   }
  }
 ],
 "metadata": {
  "kernelspec": {
   "display_name": "Python 3",
   "language": "python",
   "name": "python3"
  },
  "language_info": {
   "codemirror_mode": {
    "name": "ipython",
    "version": 2
   },
   "file_extension": ".py",
   "mimetype": "text/x-python",
   "name": "python",
   "nbconvert_exporter": "python",
   "pygments_lexer": "ipython2",
   "version": "2.7.6"
  }
 },
 "nbformat": 4,
 "nbformat_minor": 0
}